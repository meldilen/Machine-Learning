{
 "cells": [
  {
   "cell_type": "markdown",
   "metadata": {
    "id": "NQ84QHlub057"
   },
   "source": [
    "# Lab-10:  Advanced training of Neural Networks in Pytorch\n",
    "\n",
    "You've already trained pretty efficient and precise neural networks. However, there are some methods that can make the training faster and more reliable. In this lab you're going to familiarize yourself with such techniques.\n",
    "\n",
    "\n",
    "## Objectives:\n",
    "Learn how to use:\n",
    "1. Data augmentation; \n",
    "2. Batch normalization;\n",
    "3. Dropout;\n",
    "4. Early stopping;\n",
    "5. Learning rate scheduling;\n",
    "6. Tensorboard for training control."
   ]
  },
  {
   "cell_type": "markdown",
   "metadata": {
    "id": "WyAmrz7Hb06D",
    "pycharm": {
     "name": "#%% md\n"
    }
   },
   "source": [
    "# 1) Data augmentation\n",
    "We're going to use a new dataset, CIFAR10, as our example for the task of classification. The data set consists of 60000 32x32 color images in 10 classes looking like this:\n",
    "\n",
    "![example](https://pytorch.org/tutorials/_images/cifar10.png)\n",
    "\n",
    "**Question: why might we use data augmentation? What problem does it solve?**"
   ]
  },
  {
   "cell_type": "markdown",
   "metadata": {},
   "source": [
    "**Task 1.**\n",
    "\n",
    "**1) Write the following augmentation transforms of CIFAR10 dataset:**\n",
    "\n",
    "    - Crop (with size = 32, crop = 2) \n",
    "    - Horizontal flip (with probability 0.5)\n",
    "    - Rotation (with 10 degrees max) \n",
    "    - Random affine (degrees = 0, shear = 10, scale=(0.8,1.2))\n",
    "    \n",
    "**2) Define DataLoader-s of CIFAR-10 with these transforms**\n",
    "\n",
    "**Hint:** refer [ILLUSTRATION OF TRANSFORMS](https://pytorch.org/vision/stable/auto_examples/plot_transforms.html#sphx-glr-auto-examples-plot-transforms-py) in Pytorch. "
   ]
  },
  {
   "cell_type": "code",
   "execution_count": 2,
   "metadata": {
    "colab": {
     "base_uri": "https://localhost:8080/"
    },
    "id": "8K1MNlrdb06D",
    "outputId": "d21cb3ea-2859-48fe-fef3-a131231264e1",
    "pycharm": {
     "name": "#%%\n"
    }
   },
   "outputs": [
    {
     "name": "stderr",
     "output_type": "stream",
     "text": [
      "100%|██████████| 170M/170M [03:13<00:00, 881kB/s]    \n"
     ]
    }
   ],
   "source": [
    "from torch.utils import data\n",
    "from torchvision import datasets, transforms\n",
    "\n",
    "# You can increase these values if you've enough computational power\n",
    "train_batch_size = 128\n",
    "test_batch_size = 128\n",
    "\n",
    "\n",
    "# Put augmentations\n",
    "train_transforms = transforms.Compose([\n",
    "    transforms.RandomRotation(10),\n",
    "    transforms.RandomAffine(0, shear = 10, scale = (0.8, 1.2)),\n",
    "    transforms.RandomCrop(32, padding=2),\n",
    "    transforms.RandomHorizontalFlip(),\n",
    "    transforms.ToTensor(),\n",
    "    transforms.Normalize((0.5, 0.5, 0.5), (0.5, 0.5, 0.5))\n",
    "])\n",
    "# Do not modify test transforms, because it will corrupt test data\n",
    "test_transforms = transforms.Compose([\n",
    "    transforms.ToTensor(),\n",
    "    transforms.Normalize((0.5, 0.5, 0.5), (0.5, 0.5, 0.5))\n",
    "])\n",
    "\n",
    "\n",
    "# You should get how to get the training part of datasets.CIFAR10 and\n",
    "# how to apply train_transforms here\n",
    "# Specify path of downloaded set in root, if you've loaded it\n",
    "train_dataset = datasets.CIFAR10(root='cifar10', train=True, download=True, transform=train_transforms)\n",
    "\n",
    "# Define the loader of train data set: use train_batch_size as batch_size\n",
    "# and don't forget to shuffle\n",
    "train_data_loader = data.DataLoader(train_dataset, batch_size=train_batch_size, shuffle=True)\n",
    "\n",
    "\n",
    "# Do the same for test part of CIFAR10, apply test_transforms\n",
    "test_dataset = datasets.CIFAR10(root='cifar10', train=False, download=True, transform=test_transforms)\n",
    "\n",
    "# Define the loader of test data set: use test_batch_size\n",
    "test_data_loader = data.DataLoader(test_dataset, batch_size=test_batch_size, shuffle=False)"
   ]
  },
  {
   "cell_type": "code",
   "execution_count": 3,
   "metadata": {},
   "outputs": [
    {
     "name": "stderr",
     "output_type": "stream",
     "text": [
      "Clipping input data to the valid range for imshow with RGB data ([0..1] for floats or [0..255] for integers). Got range [-1.0..1.0].\n",
      "Clipping input data to the valid range for imshow with RGB data ([0..1] for floats or [0..255] for integers). Got range [-1.0..0.7490196].\n",
      "Clipping input data to the valid range for imshow with RGB data ([0..1] for floats or [0..255] for integers). Got range [-1.0..0.7176471].\n",
      "Clipping input data to the valid range for imshow with RGB data ([0..1] for floats or [0..255] for integers). Got range [-1.0..0.81960785].\n"
     ]
    },
    {
     "data": {
      "image/png": "[encoded data removed]",
      "text/plain": [
       "<Figure size 640x480 with 4 Axes>"
      ]
     },
     "metadata": {},
     "output_type": "display_data"
    }
   ],
   "source": [
    "# Check the results of transformations\n",
    "import matplotlib.pyplot as plt\n",
    "images, _ = next(iter(train_data_loader))\n",
    "\n",
    "fig, axs = plt.subplots(nrows=1, ncols=4)\n",
    "\n",
    "for i in range(4):\n",
    "    ax = axs[i]\n",
    "    ax.imshow(images[i].numpy().transpose(1,2,0))\n",
    "    ax.set(xticklabels=[], yticklabels=[], xticks=[], yticks=[])\n",
    "    \n",
    "plt.tight_layout()\n",
    "plt.show()"
   ]
  },
  {
   "cell_type": "markdown",
   "metadata": {
    "id": "nH8Ovp-Sb06E"
   },
   "source": [
    "# 2) Build a model with dropout and batch normalization\n",
    "\n",
    "Here we're going to build about the same model as we used before, but with two new layers: batch normalization and dropout.\n",
    "\n",
    "**Question: what's the purpose of these operations? What's the proposed order of their disposition relative to other layers?**"
   ]
  },
  {
   "cell_type": "markdown",
   "metadata": {},
   "source": [
    "**Task 2. Declare 4 blocks (nn.Sequential) of Custom model with the default parameters (unless otherwise stated):**\n",
    "\n",
    "**1st block, convolutional)**\n",
    "\n",
    "    - Convolution layer with 16 filters, kernel size equal to 3x3 and stride 1x1. Use ReLU as activation;\n",
    "    - Max pool layer with kernel size 2;\n",
    "    - Batch norm layer.\n",
    "    \n",
    "**2nd block, convolutional)**\n",
    "\n",
    "    - Convolution layer with 32 filters, kernel size equal to 3x3 and stride 1x1. Use ReLU as activation;\n",
    "    - Batch norm layer;\n",
    "    - Dropout layer with probability of unit drop equal to 0.25.\n",
    "    \n",
    "**3rd block, convolutional)**\n",
    "\n",
    "    - Convolution layer with 64 filters, kernel size equal to 3x3 and stride 1x1. Use ReLU as activation;\n",
    "    - Batch norm layer;\n",
    "\n",
    "**4th block, linear)**\n",
    "\n",
    "    - Linear layer. If you stated the previous parameters properly, in_features should be 64*11*11. Set out_features as 256 and ReLU as activation;\n",
    "    - Dropout layer with probability of unit drop equal to 0.1;\n",
    "    - Final linear layer with size of output equals 10"
   ]
  },
  {
   "cell_type": "code",
   "execution_count": 5,
   "metadata": {
    "colab": {
     "base_uri": "https://localhost:8080/"
    },
    "id": "e9fWUDdub06E",
    "outputId": "48d2995e-50eb-4ad1-bd05-1f842015335a",
    "pycharm": {
     "name": "#%%\n"
    }
   },
   "outputs": [
    {
     "name": "stdout",
     "output_type": "stream",
     "text": [
      "Device: cpu\n",
      "CustomModel(\n",
      "  (conv1): Sequential(\n",
      "    (0): Conv2d(3, 16, kernel_size=(3, 3), stride=(1, 1))\n",
      "    (1): ReLU()\n",
      "    (2): MaxPool2d(kernel_size=2, stride=2, padding=0, dilation=1, ceil_mode=False)\n",
      "    (3): BatchNorm2d(16, eps=1e-05, momentum=0.1, affine=True, track_running_stats=True)\n",
      "  )\n",
      "  (conv2): Sequential(\n",
      "    (0): Conv2d(16, 32, kernel_size=(3, 3), stride=(1, 1))\n",
      "    (1): ReLU()\n",
      "    (2): BatchNorm2d(32, eps=1e-05, momentum=0.1, affine=True, track_running_stats=True)\n",
      "    (3): Dropout(p=0.25, inplace=False)\n",
      "  )\n",
      "  (conv3): Sequential(\n",
      "    (0): Conv2d(32, 64, kernel_size=(3, 3), stride=(1, 1))\n",
      "    (1): ReLU()\n",
      "    (2): BatchNorm2d(64, eps=1e-05, momentum=0.1, affine=True, track_running_stats=True)\n",
      "  )\n",
      "  (linear1): Sequential(\n",
      "    (0): Linear(in_features=7744, out_features=256, bias=True)\n",
      "    (1): ReLU()\n",
      "    (2): Dropout(p=0.1, inplace=False)\n",
      "    (3): Linear(in_features=256, out_features=10, bias=True)\n",
      "  )\n",
      ")\n"
     ]
    }
   ],
   "source": [
    "import torch\n",
    "import torch.nn as nn\n",
    "import torch.nn.functional as F\n",
    "\n",
    "class CustomModel(nn.Module):\n",
    "    def __init__(self):\n",
    "        super(CustomModel, self).__init__()\n",
    "        # Build your model\n",
    "        self.conv1 = nn.Sequential(nn.Conv2d(in_channels=3, out_channels=16, kernel_size=3, stride=1), nn.ReLU(), nn.MaxPool2d(kernel_size=2, stride=2), nn.BatchNorm2d(16))\n",
    "        self.conv2 = nn.Sequential(nn.Conv2d(in_channels=16, out_channels=32, kernel_size=3, stride=1), nn.ReLU(), nn.BatchNorm2d(32), nn.Dropout(p=0.25))\n",
    "        self.conv3 = nn.Sequential(nn.Conv2d(in_channels=32, out_channels=64, kernel_size=3, stride=1), nn.ReLU(), nn.BatchNorm2d(64))\n",
    "        self.linear1 = nn.Sequential(nn.Linear(64*11*11, 256), nn.ReLU(), nn.Dropout(p=0.1), nn.Linear(256, 10 ))\n",
    "        \n",
    "\n",
    "    def forward(self, x):\n",
    "        # Propagate x through the network\n",
    "        # Do not forget to flatten after the 3rd block\n",
    "        x = self.conv1(x)\n",
    "        x = self.conv2(x)\n",
    "        x = self.conv3(x)\n",
    "        x = torch.flatten(x, 1)\n",
    "        x = self.linear1(x)\n",
    "        return F.log_softmax(x, dim=1)\n",
    "    \n",
    "use_cuda = torch.cuda.is_available()\n",
    "device = torch.device(\"cuda\" if use_cuda else \"cpu\")\n",
    "model = CustomModel().to(device)\n",
    "\n",
    "print(f'Device: {device}')\n",
    "\n",
    "print(model)"
   ]
  },
  {
   "cell_type": "markdown",
   "metadata": {
    "id": "WM_0vfc9b06F",
    "pycharm": {
     "name": "#%% md\n"
    }
   },
   "source": [
    "# 3) Training pipeline upgrades: early stopping and LR scheduler\n",
    "\n",
    "Early Stopping is a form of regularization, used to stop training when a monitored metric has stopped improving.\n",
    "\n",
    "\n",
    "**Question: what kind of metric can we monitor? What's the benefit of using early stopping?**"
   ]
  },
  {
   "cell_type": "markdown",
   "metadata": {},
   "source": [
    "Vanila Pytorch doesn't contain early stopping (check [Pytorch Ignite](https://pytorch.org/ignite/generated/ignite.handlers.early_stopping.EarlyStopping.html) for 'official' solution), so we have to write it it from scratch. Although, sometimes it's useful to have such a custom tool which you can tune to your specific needs.\n",
    "\n",
    "**Task 3. Implement EarlyStopping class**"
   ]
  },
  {
   "cell_type": "code",
   "execution_count": 6,
   "metadata": {
    "id": "_SV3TQc7b06F",
    "pycharm": {
     "name": "#%%\n"
    }
   },
   "outputs": [],
   "source": [
    "# Fill this class to stop when a certain value stop improving \n",
    "import operator\n",
    "import numpy as np\n",
    "class EarlyStopping():\n",
    "    def __init__(self, tolerance=5, min_delta=0, mode='min'):\n",
    "        '''\n",
    "        :param tolerance: number of epochs that the metric doesn't improve\n",
    "        :param min_delta: minimum improvement\n",
    "        :param mode: 'min' or 'max' to minimize or maximize the metric\n",
    "        '''\n",
    "        \n",
    "        '''\n",
    "        You should keep these parameters,\n",
    "        define a counter of __call__ falses and the previous best value of metric\n",
    "        '''\n",
    "        self.early_stop = False\n",
    "        self.tolerance = tolerance\n",
    "        self.min_delta = min_delta\n",
    "        self.mode = mode\n",
    "        self.counter = 0\n",
    "        self.best_metric = np.inf if mode == 'min' else -np.inf\n",
    "        self.operation = operator.gt if mode == 'min' else operator.lt\n",
    "        pass\n",
    "    \n",
    "    def __call__(self, metric)->bool:\n",
    "        ''' This function should return True if `metric` is not improving for\n",
    "            'tolerance' calls\n",
    "        '''\n",
    "        delta = (metric - self.best_metric)\n",
    "\n",
    "        if self.operation(self.min_delta, delta):\n",
    "            self.best_metric = metric\n",
    "            self.counter = 0\n",
    "        else:\n",
    "            self.counter += 1\n",
    "\n",
    "        if self.counter >= self.tolerance:\n",
    "            self.early_stop = True\n",
    "        return self.early_stop"
   ]
  },
  {
   "cell_type": "markdown",
   "metadata": {},
   "source": [
    "\n",
    "### Let's look how different LR-schedulers work"
   ]
  },
  {
   "cell_type": "code",
   "execution_count": 7,
   "metadata": {},
   "outputs": [
    {
     "name": "stderr",
     "output_type": "stream",
     "text": [
      "c:\\Users\\User\\anaconda3\\Lib\\site-packages\\torch\\optim\\lr_scheduler.py:62: UserWarning: The verbose parameter is deprecated. Please use get_last_lr() to access the learning rate.\n",
      "  warnings.warn(\n"
     ]
    },
    {
     "data": {
      "image/png": "[encoded data removed]",
      "text/plain": [
       "<Figure size 640x480 with 1 Axes>"
      ]
     },
     "metadata": {},
     "output_type": "display_data"
    },
    {
     "name": "stderr",
     "output_type": "stream",
     "text": [
      "c:\\Users\\User\\anaconda3\\Lib\\site-packages\\torch\\optim\\lr_scheduler.py:227: UserWarning: Detected call of `lr_scheduler.step()` before `optimizer.step()`. In PyTorch 1.1.0 and later, you should call them in the opposite order: `optimizer.step()` before `lr_scheduler.step()`.  Failure to do this will result in PyTorch skipping the first value of the learning rate schedule. See more details at https://pytorch.org/docs/stable/optim.html#how-to-adjust-learning-rate\n",
      "  warnings.warn(\n"
     ]
    },
    {
     "data": {
      "image/png": "[encoded data removed]",
      "text/plain": [
       "<Figure size 640x480 with 1 Axes>"
      ]
     },
     "metadata": {},
     "output_type": "display_data"
    },
    {
     "data": {
      "image/png": "[encoded data removed]",
      "text/plain": [
       "<Figure size 640x480 with 1 Axes>"
      ]
     },
     "metadata": {},
     "output_type": "display_data"
    },
    {
     "data": {
      "image/png": "[encoded data removed]",
      "text/plain": [
       "<Figure size 640x480 with 1 Axes>"
      ]
     },
     "metadata": {},
     "output_type": "display_data"
    }
   ],
   "source": [
    "from torch.optim import lr_scheduler\n",
    "import matplotlib.pyplot as plt\n",
    "\n",
    "# Just a toy model \n",
    "class NullModule(nn.Module):\n",
    "    def __init__(self):\n",
    "        super().__init__()\n",
    "        self.fc = nn.Linear(1,1)\n",
    "    \n",
    "\n",
    "toy_model = NullModule()\n",
    "optimizer = torch.optim.Adam(model.parameters(), lr=0.01)\n",
    "\n",
    "def plot_lr(scheduler, name):\n",
    "    # Re-init for each scheduler\n",
    "    optimizer.param_groups[0]['lr'] = 0.01\n",
    "    optimizer.zero_grad()\n",
    "    toy_model.zero_grad()\n",
    "    lrs = []\n",
    "    step = 100\n",
    "    \n",
    "    fig, ax = plt.subplots()\n",
    "    ax.set(xlabel='Step', ylabel='LR value', title=name)\n",
    "\n",
    "    for i in range(step):\n",
    "        lr = optimizer.param_groups[0]['lr']\n",
    "        if name == \"ReduceLROnPlateau\":\n",
    "            scheduler.step(lr) \n",
    "        else:\n",
    "            scheduler.step()\n",
    "        lrs.append(lr)\n",
    "\n",
    "    ax.plot(lrs)\n",
    "    plt.show()\n",
    "    \n",
    "    \n",
    "# You can check https://pytorch.org/docs/stable/optim.html#how-to-adjust-learning-rate\n",
    "LRs = {\"ReduceLROnPlateau\": lr_scheduler.ReduceLROnPlateau(optimizer, 'min', factor=0.3, \n",
    "                                                           patience=10, verbose=True,min_lr=0.001),\n",
    "       \"Step LR\": lr_scheduler.StepLR(optimizer, step_size=20, gamma=0.5),\n",
    "       \"Exponent LR\": lr_scheduler.ExponentialLR(optimizer, gamma=0.9),\n",
    "       \"Cyclic LR\":lr_scheduler.CyclicLR(optimizer, base_lr=0.01, max_lr=0.2, \n",
    "                                         cycle_momentum=False, step_size_up=10)}\n",
    "\n",
    "for name, lr in LRs.items():\n",
    "    plot_lr(lr, name)\n"
   ]
  },
  {
   "cell_type": "markdown",
   "metadata": {
    "id": "Pz8gdAFKb06F"
   },
   "source": [
    "# 4) Gather all together in training loops"
   ]
  },
  {
   "cell_type": "code",
   "execution_count": 8,
   "metadata": {
    "id": "jc9nKg7Pb06F",
    "pycharm": {
     "name": "#%%\n"
    }
   },
   "outputs": [],
   "source": [
    "from time import time \n",
    "from tqdm import tqdm\n",
    "\n",
    "\n",
    "def train(model, device, train_loader, criterion, optimizer, epoch):\n",
    "    model.train()\n",
    "    epoch_loss = 0\n",
    "    start_time = time()\n",
    "    correct = 0\n",
    "    iteration = 0\n",
    "    \n",
    "    bar = tqdm(train_loader)\n",
    "    for data, target in bar:\n",
    "        data, target = data.to(device), target.to(device)\n",
    "        optimizer.zero_grad()\n",
    "        \n",
    "        output = model(data)\n",
    "        # Get the index of the max log-probability\n",
    "        pred = output.argmax(dim=1, keepdim=True) \n",
    "        correct += pred.eq(target.view_as(pred)).sum().item()\n",
    "\n",
    "        loss = criterion(output, target)\n",
    "        loss.backward()\n",
    "        optimizer.step()\n",
    "\n",
    "        epoch_loss += loss.item()\n",
    "        iteration += 1\n",
    "        bar.set_postfix({\"Loss\": format(epoch_loss/iteration, '.6f')})\n",
    "\n",
    "    acc = 100. * correct / len(train_loader.dataset)\n",
    "    print(f'\\rTrain Epoch: {epoch}, elapsed time:{time()-start_time:.2f}s')\n",
    "    return epoch_loss, acc\n",
    "\n",
    "\n",
    "def test(model, device, test_loader, criterion):\n",
    "    model.eval()\n",
    "    test_loss = 0\n",
    "    correct = 0\n",
    "    with torch.no_grad():\n",
    "        for data, target in test_loader:\n",
    "            data, target = data.to(device), target.to(device)\n",
    "            output = model(data)\n",
    "            test_loss += criterion(output, target).item()  # sum up batch loss\n",
    "            pred = output.argmax(dim=1, keepdim=True)  # get the index of the max log-probability\n",
    "            correct += pred.eq(target.view_as(pred)).sum().item()\n",
    "    \n",
    "    acc = 100. * correct / len(test_loader.dataset)\n",
    "    return test_loss, acc"
   ]
  },
  {
   "cell_type": "code",
   "execution_count": 11,
   "metadata": {
    "pycharm": {
     "name": "#%%\n"
    }
   },
   "outputs": [
    {
     "name": "stderr",
     "output_type": "stream",
     "text": [
      "c:\\Users\\User\\anaconda3\\Lib\\site-packages\\torch\\optim\\lr_scheduler.py:62: UserWarning: The verbose parameter is deprecated. Please use get_last_lr() to access the learning rate.\n",
      "  warnings.warn(\n"
     ]
    }
   ],
   "source": [
    "from torch.optim import SGD\n",
    "from copy import deepcopy\n",
    "\n",
    "# Define hyperparams\n",
    "epochs = 100\n",
    "\n",
    "\n",
    "criterion = nn.CrossEntropyLoss()\n",
    "optimizer = SGD(model.parameters(), lr=0.1, momentum=0.9)\n",
    "# Choose the LR you like\n",
    "scheduler = lr_scheduler.ReduceLROnPlateau(optimizer, 'min', factor=0.3, \n",
    "                                                           patience=3, verbose=True, min_lr=0.001)\n",
    "early_stopping = EarlyStopping(tolerance=7, mode='min')\n",
    "\n",
    "best_model_wts = deepcopy(model.state_dict())\n",
    "best_acc = 0.0"
   ]
  },
  {
   "cell_type": "markdown",
   "metadata": {},
   "source": [
    "# 5) Use TensorBoard to check the progress of learning"
   ]
  },
  {
   "cell_type": "code",
   "execution_count": null,
   "metadata": {},
   "outputs": [],
   "source": [
    "%load_ext tensorboard\n",
    "%tensorboard --logdir runs"
   ]
  },
  {
   "cell_type": "code",
   "execution_count": null,
   "metadata": {
    "colab": {
     "base_uri": "https://localhost:8080/"
    },
    "id": "IJwFwepob06G",
    "outputId": "995538bd-0bb7-4424-97fc-011ebfc82956",
    "pycharm": {
     "name": "#%%\n"
    }
   },
   "outputs": [
    {
     "name": "stderr",
     "output_type": "stream",
     "text": [
      "100%|██████████| 391/391 [01:15<00:00,  5.17it/s, Loss=1.499870]\n"
     ]
    },
    {
     "name": "stdout",
     "output_type": "stream",
     "text": [
      "Train Epoch: 1, elapsed time:75.60s\n",
      "Training accuracy 47.166, test accuracy 50.1\n",
      "Training loss 586.4493561983109, test loss 107.98900353908539\n"
     ]
    },
    {
     "name": "stderr",
     "output_type": "stream",
     "text": [
      "100%|██████████| 391/391 [01:15<00:00,  5.15it/s, Loss=1.439260]\n"
     ]
    },
    {
     "name": "stdout",
     "output_type": "stream",
     "text": [
      "Train Epoch: 2, elapsed time:75.99s\n",
      "Training accuracy 49.872, test accuracy 57.82\n",
      "Training loss 562.7507308721542, test loss 100.26598107814789\n"
     ]
    },
    {
     "name": "stderr",
     "output_type": "stream",
     "text": [
      "100%|██████████| 391/391 [01:19<00:00,  4.89it/s, Loss=1.374276]\n"
     ]
    },
    {
     "name": "stdout",
     "output_type": "stream",
     "text": [
      "Train Epoch: 3, elapsed time:79.97s\n",
      "Training accuracy 52.516, test accuracy 57.47\n",
      "Training loss 537.3417376279831, test loss 101.3217705488205\n"
     ]
    },
    {
     "name": "stderr",
     "output_type": "stream",
     "text": [
      "100%|██████████| 391/391 [01:24<00:00,  4.64it/s, Loss=1.347782]\n"
     ]
    },
    {
     "name": "stdout",
     "output_type": "stream",
     "text": [
      "Train Epoch: 4, elapsed time:84.34s\n",
      "Training accuracy 53.848, test accuracy 62.39\n",
      "Training loss 526.9828045368195, test loss 91.29387992620468\n"
     ]
    },
    {
     "name": "stderr",
     "output_type": "stream",
     "text": [
      "100%|██████████| 391/391 [01:19<00:00,  4.92it/s, Loss=1.308169]\n"
     ]
    },
    {
     "name": "stdout",
     "output_type": "stream",
     "text": [
      "Train Epoch: 5, elapsed time:79.41s\n",
      "Training accuracy 55.628, test accuracy 61.7\n",
      "Training loss 511.49404060840607, test loss 95.50900679826736\n"
     ]
    },
    {
     "name": "stderr",
     "output_type": "stream",
     "text": [
      "100%|██████████| 391/391 [01:27<00:00,  4.48it/s, Loss=1.282347]\n"
     ]
    },
    {
     "name": "stdout",
     "output_type": "stream",
     "text": [
      "Train Epoch: 6, elapsed time:87.27s\n",
      "Training accuracy 56.432, test accuracy 62.52\n",
      "Training loss 501.3977379798889, test loss 90.41216570138931\n"
     ]
    },
    {
     "name": "stderr",
     "output_type": "stream",
     "text": [
      "100%|██████████| 391/391 [01:28<00:00,  4.42it/s, Loss=1.264669]\n"
     ]
    },
    {
     "name": "stdout",
     "output_type": "stream",
     "text": [
      "Train Epoch: 7, elapsed time:88.48s\n",
      "Training accuracy 57.444, test accuracy 65.32\n",
      "Training loss 494.48563301563263, test loss 82.99191391468048\n"
     ]
    },
    {
     "name": "stderr",
     "output_type": "stream",
     "text": [
      "100%|██████████| 391/391 [01:20<00:00,  4.83it/s, Loss=1.252338]\n"
     ]
    },
    {
     "name": "stdout",
     "output_type": "stream",
     "text": [
      "Train Epoch: 8, elapsed time:80.92s\n",
      "Training accuracy 58.246, test accuracy 66.29\n",
      "Training loss 489.6640341281891, test loss 80.65854477882385\n"
     ]
    },
    {
     "name": "stderr",
     "output_type": "stream",
     "text": [
      "100%|██████████| 391/391 [01:18<00:00,  4.97it/s, Loss=1.236539]\n"
     ]
    },
    {
     "name": "stdout",
     "output_type": "stream",
     "text": [
      "Train Epoch: 9, elapsed time:78.73s\n",
      "Training accuracy 59.098, test accuracy 66.13\n",
      "Training loss 483.48660373687744, test loss 84.600969851017\n"
     ]
    },
    {
     "name": "stderr",
     "output_type": "stream",
     "text": [
      "100%|██████████| 391/391 [01:18<00:00,  4.99it/s, Loss=1.196866]\n"
     ]
    },
    {
     "name": "stdout",
     "output_type": "stream",
     "text": [
      "Train Epoch: 10, elapsed time:78.35s\n",
      "Training accuracy 60.006, test accuracy 66.73\n",
      "Training loss 467.97454768419266, test loss 92.55594313144684\n"
     ]
    },
    {
     "name": "stderr",
     "output_type": "stream",
     "text": [
      "100%|██████████| 391/391 [01:19<00:00,  4.93it/s, Loss=1.227670]\n"
     ]
    },
    {
     "name": "stdout",
     "output_type": "stream",
     "text": [
      "Train Epoch: 11, elapsed time:79.36s\n",
      "Training accuracy 59.458, test accuracy 65.84\n",
      "Training loss 480.01886492967606, test loss 78.77530199289322\n"
     ]
    },
    {
     "name": "stderr",
     "output_type": "stream",
     "text": [
      "100%|██████████| 391/391 [01:30<00:00,  4.34it/s, Loss=1.207980]\n"
     ]
    },
    {
     "name": "stdout",
     "output_type": "stream",
     "text": [
      "Train Epoch: 12, elapsed time:90.10s\n",
      "Training accuracy 60.278, test accuracy 68.5\n",
      "Training loss 472.32034331560135, test loss 72.72912293672562\n"
     ]
    },
    {
     "name": "stderr",
     "output_type": "stream",
     "text": [
      "100%|██████████| 391/391 [01:22<00:00,  4.72it/s, Loss=1.199465]\n"
     ]
    },
    {
     "name": "stdout",
     "output_type": "stream",
     "text": [
      "Train Epoch: 13, elapsed time:82.91s\n",
      "Training accuracy 60.826, test accuracy 69.67\n",
      "Training loss 468.99094730615616, test loss 74.73655390739441\n"
     ]
    },
    {
     "name": "stderr",
     "output_type": "stream",
     "text": [
      "100%|██████████| 391/391 [01:23<00:00,  4.67it/s, Loss=1.191454]\n"
     ]
    },
    {
     "name": "stdout",
     "output_type": "stream",
     "text": [
      "Train Epoch: 14, elapsed time:83.77s\n",
      "Training accuracy 61.144, test accuracy 70.21\n",
      "Training loss 465.85868149995804, test loss 73.42503017187119\n"
     ]
    },
    {
     "name": "stderr",
     "output_type": "stream",
     "text": [
      "100%|██████████| 391/391 [01:29<00:00,  4.36it/s, Loss=1.144358]\n"
     ]
    },
    {
     "name": "stdout",
     "output_type": "stream",
     "text": [
      "Train Epoch: 15, elapsed time:89.71s\n",
      "Training accuracy 62.382, test accuracy 66.51\n",
      "Training loss 447.4441285729408, test loss 79.31921011209488\n"
     ]
    },
    {
     "name": "stderr",
     "output_type": "stream",
     "text": [
      "100%|██████████| 391/391 [01:15<00:00,  5.15it/s, Loss=1.183255]\n"
     ]
    },
    {
     "name": "stdout",
     "output_type": "stream",
     "text": [
      "Train Epoch: 16, elapsed time:75.95s\n",
      "Training accuracy 61.334, test accuracy 68.78\n",
      "Training loss 462.6525748372078, test loss 72.93105298280716\n"
     ]
    },
    {
     "name": "stderr",
     "output_type": "stream",
     "text": [
      "100%|██████████| 391/391 [01:19<00:00,  4.90it/s, Loss=1.156528]\n"
     ]
    },
    {
     "name": "stdout",
     "output_type": "stream",
     "text": [
      "Train Epoch: 17, elapsed time:79.83s\n",
      "Training accuracy 62.516, test accuracy 70.4\n",
      "Training loss 452.2025268673897, test loss 72.1178070306778\n"
     ]
    },
    {
     "name": "stderr",
     "output_type": "stream",
     "text": [
      "100%|██████████| 391/391 [01:30<00:00,  4.31it/s, Loss=1.133714]\n"
     ]
    },
    {
     "name": "stdout",
     "output_type": "stream",
     "text": [
      "Train Epoch: 18, elapsed time:90.82s\n",
      "Training accuracy 63.11, test accuracy 67.51\n",
      "Training loss 443.28235936164856, test loss 76.18584221601486\n"
     ]
    },
    {
     "name": "stderr",
     "output_type": "stream",
     "text": [
      "100%|██████████| 391/391 [01:16<00:00,  5.10it/s, Loss=1.158242]\n"
     ]
    },
    {
     "name": "stdout",
     "output_type": "stream",
     "text": [
      "Train Epoch: 19, elapsed time:76.68s\n",
      "Training accuracy 62.272, test accuracy 70.73\n",
      "Training loss 452.8727470636368, test loss 73.85982722043991\n"
     ]
    },
    {
     "name": "stderr",
     "output_type": "stream",
     "text": [
      "100%|██████████| 391/391 [01:14<00:00,  5.26it/s, Loss=1.163171]\n"
     ]
    },
    {
     "name": "stdout",
     "output_type": "stream",
     "text": [
      "Train Epoch: 20, elapsed time:74.33s\n",
      "Training accuracy 62.67, test accuracy 67.06\n",
      "Training loss 454.79997873306274, test loss 79.03641456365585\n"
     ]
    },
    {
     "name": "stderr",
     "output_type": "stream",
     "text": [
      "100%|██████████| 391/391 [01:14<00:00,  5.26it/s, Loss=1.131092]\n"
     ]
    },
    {
     "name": "stdout",
     "output_type": "stream",
     "text": [
      "Train Epoch: 21, elapsed time:74.39s\n",
      "Training accuracy 63.656, test accuracy 68.61\n",
      "Training loss 442.2570431828499, test loss 73.90260583162308\n"
     ]
    },
    {
     "name": "stderr",
     "output_type": "stream",
     "text": [
      "100%|██████████| 391/391 [01:19<00:00,  4.94it/s, Loss=1.160907]\n"
     ]
    },
    {
     "name": "stdout",
     "output_type": "stream",
     "text": [
      "Train Epoch: 22, elapsed time:79.08s\n",
      "Training accuracy 62.712, test accuracy 72.0\n",
      "Training loss 453.91454726457596, test loss 98.14503753185272\n"
     ]
    },
    {
     "name": "stderr",
     "output_type": "stream",
     "text": [
      "100%|██████████| 391/391 [01:14<00:00,  5.25it/s, Loss=1.135927]\n"
     ]
    },
    {
     "name": "stdout",
     "output_type": "stream",
     "text": [
      "Train Epoch: 23, elapsed time:74.41s\n",
      "Training accuracy 63.74, test accuracy 72.65\n",
      "Training loss 444.1473373770714, test loss 68.12744066119194\n"
     ]
    },
    {
     "name": "stderr",
     "output_type": "stream",
     "text": [
      "100%|██████████| 391/391 [01:14<00:00,  5.28it/s, Loss=1.123280]\n"
     ]
    },
    {
     "name": "stdout",
     "output_type": "stream",
     "text": [
      "Train Epoch: 24, elapsed time:74.11s\n",
      "Training accuracy 63.776, test accuracy 71.16\n",
      "Training loss 439.2025343775749, test loss 71.28872460126877\n"
     ]
    },
    {
     "name": "stderr",
     "output_type": "stream",
     "text": [
      "100%|██████████| 391/391 [01:14<00:00,  5.22it/s, Loss=1.112541]\n"
     ]
    },
    {
     "name": "stdout",
     "output_type": "stream",
     "text": [
      "Train Epoch: 25, elapsed time:74.87s\n",
      "Training accuracy 64.352, test accuracy 72.35\n",
      "Training loss 435.0034911632538, test loss 70.52187252044678\n"
     ]
    },
    {
     "name": "stderr",
     "output_type": "stream",
     "text": [
      "100%|██████████| 391/391 [01:14<00:00,  5.27it/s, Loss=1.119129]\n"
     ]
    },
    {
     "name": "stdout",
     "output_type": "stream",
     "text": [
      "Train Epoch: 26, elapsed time:74.25s\n",
      "Training accuracy 64.152, test accuracy 67.28\n",
      "Training loss 437.57941895723343, test loss 75.30047112703323\n"
     ]
    },
    {
     "name": "stderr",
     "output_type": "stream",
     "text": [
      "100%|██████████| 391/391 [01:13<00:00,  5.33it/s, Loss=1.144581]\n"
     ]
    },
    {
     "name": "stdout",
     "output_type": "stream",
     "text": [
      "Train Epoch: 27, elapsed time:73.41s\n",
      "Training accuracy 63.688, test accuracy 71.0\n",
      "Training loss 447.53131717443466, test loss 69.05713683366776\n"
     ]
    },
    {
     "name": "stderr",
     "output_type": "stream",
     "text": [
      "100%|██████████| 391/391 [01:14<00:00,  5.22it/s, Loss=1.115173]\n"
     ]
    },
    {
     "name": "stdout",
     "output_type": "stream",
     "text": [
      "Train Epoch: 28, elapsed time:74.89s\n",
      "Training accuracy 64.536, test accuracy 72.7\n",
      "Training loss 436.0324591398239, test loss 80.64443761110306\n"
     ]
    },
    {
     "name": "stderr",
     "output_type": "stream",
     "text": [
      "100%|██████████| 391/391 [01:14<00:00,  5.26it/s, Loss=1.137903]\n"
     ]
    },
    {
     "name": "stdout",
     "output_type": "stream",
     "text": [
      "Train Epoch: 29, elapsed time:74.28s\n",
      "Training accuracy 63.856, test accuracy 72.27\n",
      "Training loss 444.92014050483704, test loss 69.3725695014\n"
     ]
    },
    {
     "name": "stderr",
     "output_type": "stream",
     "text": [
      "100%|██████████| 391/391 [01:16<00:00,  5.10it/s, Loss=0.876675]\n"
     ]
    },
    {
     "name": "stdout",
     "output_type": "stream",
     "text": [
      "Train Epoch: 30, elapsed time:76.63s\n",
      "Training accuracy 71.08, test accuracy 76.91\n",
      "Training loss 342.7800031900406, test loss 58.18708297610283\n"
     ]
    },
    {
     "name": "stderr",
     "output_type": "stream",
     "text": [
      "100%|██████████| 391/391 [01:26<00:00,  4.50it/s, Loss=0.829687]\n"
     ]
    },
    {
     "name": "stdout",
     "output_type": "stream",
     "text": [
      "Train Epoch: 31, elapsed time:86.82s\n",
      "Training accuracy 72.008, test accuracy 77.11\n",
      "Training loss 324.4075919389725, test loss 55.28341422975063\n"
     ]
    },
    {
     "name": "stderr",
     "output_type": "stream",
     "text": [
      "100%|██████████| 391/391 [01:38<00:00,  3.99it/s, Loss=0.812407]\n"
     ]
    },
    {
     "name": "stdout",
     "output_type": "stream",
     "text": [
      "Train Epoch: 32, elapsed time:98.12s\n",
      "Training accuracy 72.752, test accuracy 77.45\n",
      "Training loss 317.6513212919235, test loss 53.15078064799309\n"
     ]
    },
    {
     "name": "stderr",
     "output_type": "stream",
     "text": [
      "100%|██████████| 391/391 [01:27<00:00,  4.47it/s, Loss=0.798040]\n"
     ]
    },
    {
     "name": "stdout",
     "output_type": "stream",
     "text": [
      "Train Epoch: 33, elapsed time:87.50s\n",
      "Training accuracy 72.976, test accuracy 78.36\n",
      "Training loss 312.03349870443344, test loss 56.31864860653877\n"
     ]
    },
    {
     "name": "stderr",
     "output_type": "stream",
     "text": [
      "100%|██████████| 391/391 [01:33<00:00,  4.19it/s, Loss=0.793269]\n"
     ]
    },
    {
     "name": "stdout",
     "output_type": "stream",
     "text": [
      "Train Epoch: 34, elapsed time:93.22s\n",
      "Training accuracy 73.294, test accuracy 78.32\n",
      "Training loss 310.1682457923889, test loss 51.13940557837486\n"
     ]
    },
    {
     "name": "stderr",
     "output_type": "stream",
     "text": [
      "100%|██████████| 391/391 [01:22<00:00,  4.76it/s, Loss=0.783547]\n"
     ]
    },
    {
     "name": "stdout",
     "output_type": "stream",
     "text": [
      "Train Epoch: 35, elapsed time:82.15s\n",
      "Training accuracy 73.44, test accuracy 78.36\n",
      "Training loss 306.36684435606, test loss 52.58744567632675\n"
     ]
    },
    {
     "name": "stderr",
     "output_type": "stream",
     "text": [
      "100%|██████████| 391/391 [01:21<00:00,  4.80it/s, Loss=0.774277]\n"
     ]
    },
    {
     "name": "stdout",
     "output_type": "stream",
     "text": [
      "Train Epoch: 36, elapsed time:81.46s\n",
      "Training accuracy 73.608, test accuracy 78.25\n",
      "Training loss 302.74243399500847, test loss 55.62765699625015\n"
     ]
    },
    {
     "name": "stderr",
     "output_type": "stream",
     "text": [
      "100%|██████████| 391/391 [01:17<00:00,  5.07it/s, Loss=0.760472]\n"
     ]
    },
    {
     "name": "stdout",
     "output_type": "stream",
     "text": [
      "Train Epoch: 37, elapsed time:77.05s\n",
      "Training accuracy 74.256, test accuracy 77.92\n",
      "Training loss 297.3447307050228, test loss 51.56851148605347\n"
     ]
    },
    {
     "name": "stderr",
     "output_type": "stream",
     "text": [
      "100%|██████████| 391/391 [01:16<00:00,  5.12it/s, Loss=0.756655]\n"
     ]
    },
    {
     "name": "stdout",
     "output_type": "stream",
     "text": [
      "Train Epoch: 38, elapsed time:76.33s\n",
      "Training accuracy 74.116, test accuracy 78.77\n",
      "Training loss 295.8519123196602, test loss 52.957045912742615\n"
     ]
    },
    {
     "name": "stderr",
     "output_type": "stream",
     "text": [
      "100%|██████████| 391/391 [01:15<00:00,  5.15it/s, Loss=0.756109]\n"
     ]
    },
    {
     "name": "stdout",
     "output_type": "stream",
     "text": [
      "Train Epoch: 39, elapsed time:75.95s\n",
      "Training accuracy 74.178, test accuracy 78.79\n",
      "Training loss 295.63873898983, test loss 52.9059593975544\n"
     ]
    },
    {
     "name": "stderr",
     "output_type": "stream",
     "text": [
      "100%|██████████| 391/391 [01:16<00:00,  5.09it/s, Loss=0.756316]\n"
     ]
    },
    {
     "name": "stdout",
     "output_type": "stream",
     "text": [
      "Train Epoch: 40, elapsed time:76.75s\n",
      "Training accuracy 74.272, test accuracy 78.29\n",
      "Training loss 295.7197196483612, test loss 50.676947355270386\n"
     ]
    },
    {
     "name": "stderr",
     "output_type": "stream",
     "text": [
      "100%|██████████| 391/391 [01:20<00:00,  4.88it/s, Loss=0.753082]\n"
     ]
    },
    {
     "name": "stdout",
     "output_type": "stream",
     "text": [
      "Train Epoch: 41, elapsed time:80.20s\n",
      "Training accuracy 74.432, test accuracy 78.44\n",
      "Training loss 294.45500123500824, test loss 54.38813355565071\n"
     ]
    },
    {
     "name": "stderr",
     "output_type": "stream",
     "text": [
      "100%|██████████| 391/391 [01:20<00:00,  4.86it/s, Loss=0.739984]\n"
     ]
    },
    {
     "name": "stdout",
     "output_type": "stream",
     "text": [
      "Train Epoch: 42, elapsed time:80.46s\n",
      "Training accuracy 74.882, test accuracy 78.27\n",
      "Training loss 289.33373671770096, test loss 50.79763004183769\n"
     ]
    },
    {
     "name": "stderr",
     "output_type": "stream",
     "text": [
      "100%|██████████| 391/391 [01:18<00:00,  4.97it/s, Loss=0.735483]\n"
     ]
    },
    {
     "name": "stdout",
     "output_type": "stream",
     "text": [
      "Train Epoch: 43, elapsed time:78.71s\n",
      "Training accuracy 74.716, test accuracy 79.18\n",
      "Training loss 287.57376232743263, test loss 49.58609926700592\n"
     ]
    },
    {
     "name": "stderr",
     "output_type": "stream",
     "text": [
      "100%|██████████| 391/391 [01:18<00:00,  5.00it/s, Loss=0.736146]\n"
     ]
    },
    {
     "name": "stdout",
     "output_type": "stream",
     "text": [
      "Train Epoch: 44, elapsed time:78.19s\n",
      "Training accuracy 75.102, test accuracy 78.46\n",
      "Training loss 287.83317029476166, test loss 51.18703380227089\n"
     ]
    },
    {
     "name": "stderr",
     "output_type": "stream",
     "text": [
      "100%|██████████| 391/391 [01:17<00:00,  5.06it/s, Loss=0.735075]\n"
     ]
    },
    {
     "name": "stdout",
     "output_type": "stream",
     "text": [
      "Train Epoch: 45, elapsed time:77.26s\n",
      "Training accuracy 74.774, test accuracy 78.51\n",
      "Training loss 287.41443356871605, test loss 51.34937450289726\n"
     ]
    },
    {
     "name": "stderr",
     "output_type": "stream",
     "text": [
      "100%|██████████| 391/391 [01:20<00:00,  4.88it/s, Loss=0.735220]\n"
     ]
    },
    {
     "name": "stdout",
     "output_type": "stream",
     "text": [
      "Train Epoch: 46, elapsed time:80.14s\n",
      "Training accuracy 75.046, test accuracy 79.43\n",
      "Training loss 287.47097036242485, test loss 50.40779474377632\n"
     ]
    },
    {
     "name": "stderr",
     "output_type": "stream",
     "text": [
      "100%|██████████| 391/391 [01:21<00:00,  4.80it/s, Loss=0.719447]\n"
     ]
    },
    {
     "name": "stdout",
     "output_type": "stream",
     "text": [
      "Train Epoch: 47, elapsed time:81.44s\n",
      "Training accuracy 75.454, test accuracy 79.94\n",
      "Training loss 281.30395805835724, test loss 49.383640825748444\n"
     ]
    },
    {
     "name": "stderr",
     "output_type": "stream",
     "text": [
      "100%|██████████| 391/391 [01:21<00:00,  4.78it/s, Loss=0.716353]\n"
     ]
    },
    {
     "name": "stdout",
     "output_type": "stream",
     "text": [
      "Train Epoch: 48, elapsed time:81.75s\n",
      "Training accuracy 75.78, test accuracy 79.31\n",
      "Training loss 280.0938458442688, test loss 49.61890405416489\n"
     ]
    },
    {
     "name": "stderr",
     "output_type": "stream",
     "text": [
      "100%|██████████| 391/391 [01:17<00:00,  5.07it/s, Loss=0.718599]\n"
     ]
    },
    {
     "name": "stdout",
     "output_type": "stream",
     "text": [
      "Train Epoch: 49, elapsed time:77.10s\n",
      "Training accuracy 75.406, test accuracy 79.87\n",
      "Training loss 280.9722600579262, test loss 49.80632624030113\n"
     ]
    },
    {
     "name": "stderr",
     "output_type": "stream",
     "text": [
      "100%|██████████| 391/391 [01:15<00:00,  5.17it/s, Loss=0.715011]\n"
     ]
    },
    {
     "name": "stdout",
     "output_type": "stream",
     "text": [
      "Train Epoch: 50, elapsed time:75.60s\n",
      "Training accuracy 75.722, test accuracy 79.64\n",
      "Training loss 279.5693591237068, test loss 51.14473882317543\n"
     ]
    },
    {
     "name": "stderr",
     "output_type": "stream",
     "text": [
      "100%|██████████| 391/391 [01:21<00:00,  4.82it/s, Loss=0.712834]\n"
     ]
    },
    {
     "name": "stdout",
     "output_type": "stream",
     "text": [
      "Train Epoch: 51, elapsed time:81.07s\n",
      "Training accuracy 75.774, test accuracy 79.67\n",
      "Training loss 278.718158274889, test loss 48.03703993558884\n"
     ]
    },
    {
     "name": "stderr",
     "output_type": "stream",
     "text": [
      "100%|██████████| 391/391 [01:22<00:00,  4.77it/s, Loss=0.708939]\n"
     ]
    },
    {
     "name": "stdout",
     "output_type": "stream",
     "text": [
      "Train Epoch: 52, elapsed time:82.04s\n",
      "Training accuracy 75.852, test accuracy 79.2\n",
      "Training loss 277.1953204870224, test loss 50.15314334630966\n"
     ]
    },
    {
     "name": "stderr",
     "output_type": "stream",
     "text": [
      "100%|██████████| 391/391 [01:22<00:00,  4.71it/s, Loss=0.706099]\n"
     ]
    },
    {
     "name": "stdout",
     "output_type": "stream",
     "text": [
      "Train Epoch: 53, elapsed time:82.94s\n",
      "Training accuracy 75.814, test accuracy 79.64\n",
      "Training loss 276.0848240554333, test loss 49.84401959180832\n"
     ]
    },
    {
     "name": "stderr",
     "output_type": "stream",
     "text": [
      "100%|██████████| 391/391 [01:16<00:00,  5.10it/s, Loss=0.694337]\n"
     ]
    },
    {
     "name": "stdout",
     "output_type": "stream",
     "text": [
      "Train Epoch: 54, elapsed time:76.62s\n",
      "Training accuracy 76.364, test accuracy 79.41\n",
      "Training loss 271.48579981923103, test loss 48.887508034706116\n"
     ]
    },
    {
     "name": "stderr",
     "output_type": "stream",
     "text": [
      "100%|██████████| 391/391 [01:14<00:00,  5.27it/s, Loss=0.692897]\n"
     ]
    },
    {
     "name": "stdout",
     "output_type": "stream",
     "text": [
      "Train Epoch: 55, elapsed time:74.27s\n",
      "Training accuracy 76.36, test accuracy 80.01\n",
      "Training loss 270.9226613342762, test loss 48.59631085395813\n"
     ]
    },
    {
     "name": "stderr",
     "output_type": "stream",
     "text": [
      "100%|██████████| 391/391 [01:19<00:00,  4.91it/s, Loss=0.696422]\n"
     ]
    },
    {
     "name": "stdout",
     "output_type": "stream",
     "text": [
      "Train Epoch: 56, elapsed time:79.70s\n",
      "Training accuracy 76.098, test accuracy 79.77\n",
      "Training loss 272.3010056912899, test loss 47.03697609901428\n"
     ]
    },
    {
     "name": "stderr",
     "output_type": "stream",
     "text": [
      "100%|██████████| 391/391 [01:20<00:00,  4.87it/s, Loss=0.694897]\n"
     ]
    },
    {
     "name": "stdout",
     "output_type": "stream",
     "text": [
      "Train Epoch: 57, elapsed time:80.28s\n",
      "Training accuracy 76.094, test accuracy 80.35\n",
      "Training loss 271.7048616707325, test loss 48.04043501615524\n"
     ]
    },
    {
     "name": "stderr",
     "output_type": "stream",
     "text": [
      "100%|██████████| 391/391 [01:26<00:00,  4.52it/s, Loss=0.686274]\n"
     ]
    },
    {
     "name": "stdout",
     "output_type": "stream",
     "text": [
      "Train Epoch: 58, elapsed time:86.48s\n",
      "Training accuracy 76.6, test accuracy 79.72\n",
      "Training loss 268.33296033740044, test loss 50.63161879777908\n"
     ]
    },
    {
     "name": "stderr",
     "output_type": "stream",
     "text": [
      "100%|██████████| 391/391 [01:16<00:00,  5.10it/s, Loss=0.699051]\n"
     ]
    },
    {
     "name": "stdout",
     "output_type": "stream",
     "text": [
      "Train Epoch: 59, elapsed time:76.60s\n",
      "Training accuracy 76.094, test accuracy 79.45\n",
      "Training loss 273.32886785268784, test loss 49.819593131542206\n"
     ]
    },
    {
     "name": "stderr",
     "output_type": "stream",
     "text": [
      "100%|██████████| 391/391 [01:17<00:00,  5.04it/s, Loss=0.691994]\n"
     ]
    },
    {
     "name": "stdout",
     "output_type": "stream",
     "text": [
      "Train Epoch: 60, elapsed time:77.64s\n",
      "Training accuracy 76.232, test accuracy 80.12\n",
      "Training loss 270.56957590579987, test loss 50.5320428609848\n"
     ]
    },
    {
     "name": "stderr",
     "output_type": "stream",
     "text": [
      "100%|██████████| 391/391 [01:17<00:00,  5.02it/s, Loss=0.685843]\n"
     ]
    },
    {
     "name": "stdout",
     "output_type": "stream",
     "text": [
      "Train Epoch: 61, elapsed time:77.89s\n",
      "Training accuracy 76.434, test accuracy 80.81\n",
      "Training loss 268.1644916534424, test loss 49.57219931483269\n"
     ]
    },
    {
     "name": "stderr",
     "output_type": "stream",
     "text": [
      "100%|██████████| 391/391 [01:17<00:00,  5.03it/s, Loss=0.684333]\n"
     ]
    },
    {
     "name": "stdout",
     "output_type": "stream",
     "text": [
      "Train Epoch: 62, elapsed time:77.71s\n",
      "Training accuracy 76.626, test accuracy 79.66\n",
      "Training loss 267.57422745227814, test loss 47.732742950320244\n"
     ]
    },
    {
     "name": "stderr",
     "output_type": "stream",
     "text": [
      "100%|██████████| 391/391 [01:19<00:00,  4.94it/s, Loss=0.676171]\n"
     ]
    },
    {
     "name": "stdout",
     "output_type": "stream",
     "text": [
      "Train Epoch: 63, elapsed time:79.09s\n",
      "Training accuracy 76.862, test accuracy 80.75\n",
      "Training loss 264.38283535838127, test loss 46.25021696090698\n"
     ]
    },
    {
     "name": "stderr",
     "output_type": "stream",
     "text": [
      "100%|██████████| 391/391 [01:20<00:00,  4.85it/s, Loss=0.674075]\n"
     ]
    },
    {
     "name": "stdout",
     "output_type": "stream",
     "text": [
      "Train Epoch: 64, elapsed time:80.66s\n",
      "Training accuracy 76.81, test accuracy 81.07\n",
      "Training loss 263.5633324980736, test loss 45.86906883120537\n"
     ]
    },
    {
     "name": "stderr",
     "output_type": "stream",
     "text": [
      "100%|██████████| 391/391 [01:13<00:00,  5.29it/s, Loss=0.674789]\n"
     ]
    },
    {
     "name": "stdout",
     "output_type": "stream",
     "text": [
      "Train Epoch: 65, elapsed time:73.93s\n",
      "Training accuracy 76.97, test accuracy 79.92\n",
      "Training loss 263.842306047678, test loss 49.00865691900253\n"
     ]
    },
    {
     "name": "stderr",
     "output_type": "stream",
     "text": [
      "100%|██████████| 391/391 [01:21<00:00,  4.77it/s, Loss=0.666925]\n"
     ]
    },
    {
     "name": "stdout",
     "output_type": "stream",
     "text": [
      "Train Epoch: 66, elapsed time:81.98s\n",
      "Training accuracy 77.186, test accuracy 80.24\n",
      "Training loss 260.7677429020405, test loss 48.05480366945267\n"
     ]
    },
    {
     "name": "stderr",
     "output_type": "stream",
     "text": [
      "100%|██████████| 391/391 [01:20<00:00,  4.87it/s, Loss=0.670581]\n"
     ]
    },
    {
     "name": "stdout",
     "output_type": "stream",
     "text": [
      "Train Epoch: 67, elapsed time:80.24s\n",
      "Training accuracy 76.9, test accuracy 80.6\n",
      "Training loss 262.1971383690834, test loss 49.729340344667435\n"
     ]
    },
    {
     "name": "stderr",
     "output_type": "stream",
     "text": [
      "100%|██████████| 391/391 [01:19<00:00,  4.91it/s, Loss=0.659815]\n"
     ]
    },
    {
     "name": "stdout",
     "output_type": "stream",
     "text": [
      "Train Epoch: 68, elapsed time:79.65s\n",
      "Training accuracy 77.736, test accuracy 80.78\n",
      "Training loss 257.98761346936226, test loss 47.967106848955154\n"
     ]
    },
    {
     "name": "stderr",
     "output_type": "stream",
     "text": [
      "100%|██████████| 391/391 [01:27<00:00,  4.46it/s, Loss=0.660746]\n"
     ]
    },
    {
     "name": "stdout",
     "output_type": "stream",
     "text": [
      "Train Epoch: 69, elapsed time:87.74s\n",
      "Training accuracy 77.448, test accuracy 80.98\n",
      "Training loss 258.3518449962139, test loss 48.55860456824303\n"
     ]
    },
    {
     "name": "stderr",
     "output_type": "stream",
     "text": [
      "100%|██████████| 391/391 [01:20<00:00,  4.86it/s, Loss=0.656837]\n"
     ]
    },
    {
     "name": "stdout",
     "output_type": "stream",
     "text": [
      "Train Epoch: 70, elapsed time:80.46s\n",
      "Training accuracy 77.554, test accuracy 79.68\n",
      "Training loss 256.82307639718056, test loss 54.50151541829109\n"
     ]
    },
    {
     "name": "stderr",
     "output_type": "stream",
     "text": [
      "100%|██████████| 391/391 [01:17<00:00,  5.04it/s, Loss=0.659353]\n"
     ]
    },
    {
     "name": "stdout",
     "output_type": "stream",
     "text": [
      "Train Epoch: 71, elapsed time:77.60s\n",
      "\n",
      "Early stopping\n",
      "\n"
     ]
    }
   ],
   "source": [
    "import torch.optim as optim\n",
    "from torch.utils.tensorboard import SummaryWriter\n",
    "import copy\n",
    "\n",
    "\n",
    "\n",
    "def training(writing=False):\n",
    "    if writing:\n",
    "        writer = SummaryWriter(log_dir='runs/model')\n",
    "\n",
    "    best_acc = 0.0\n",
    "    best_model_wts = copy.deepcopy(model.state_dict()) # Initialize best_model_wts here too, if it might not be assigned later.\n",
    "\n",
    "    for epoch in range(1, epochs + 1):\n",
    "        train_loss, train_acc = train(model, device, train_data_loader, criterion, optimizer, epoch)\n",
    "        # Update learning rate if needed\n",
    "        scheduler.step(train_loss)\n",
    "\n",
    "        test_loss, test_acc = test(model, device, test_data_loader, criterion)\n",
    "        # Terminate training if loss stopped to decrease\n",
    "        if early_stopping(test_loss):\n",
    "            print('\\nEarly stopping\\n')\n",
    "            break\n",
    "        # Deep copy the weight of model if its accuracy is the best for now\n",
    "        if test_acc > best_acc:\n",
    "            best_acc = test_acc\n",
    "            best_model_wts = copy.deepcopy(model.state_dict())\n",
    "        if writing:\n",
    "            writer.add_scalars('Loss',\n",
    "                            {\n",
    "                                'train': train_loss,\n",
    "                                'test': test_loss\n",
    "                            },\n",
    "                            epoch)\n",
    "\n",
    "            writer.add_scalars('Accuracy',\n",
    "                            {\n",
    "                                'train': train_acc,\n",
    "                                'test': test_acc\n",
    "                            },\n",
    "                            epoch)\n",
    "        else:\n",
    "            print(f\"Training accuracy {train_acc}, test accuracy {test_acc}\")\n",
    "            print(f\"Training loss {train_loss}, test loss {test_loss}\")\n",
    "        \n",
    "    torch.save(model.state_dict(), \"model.pt\")\n",
    "    model.load_state_dict(best_model_wts)\n",
    "    torch.save(model.state_dict(), \"best_model.pt\")\n",
    "    if writing:\n",
    "        writer.close()\n",
    "        \n",
    "training()\n"
   ]
  }
 ],
 "metadata": {
  "accelerator": "GPU",
  "colab": {
   "collapsed_sections": [],
   "provenance": []
  },
  "gpuClass": "standard",
  "kernelspec": {
   "display_name": "base",
   "language": "python",
   "name": "python3"
  },
  "language_info": {
   "codemirror_mode": {
    "name": "ipython",
    "version": 3
   },
   "file_extension": ".py",
   "mimetype": "text/x-python",
   "name": "python",
   "nbconvert_exporter": "python",
   "pygments_lexer": "ipython3",
   "version": "3.12.7"
  }
 },
 "nbformat": 4,
 "nbformat_minor": 1
}
