{
 "cells": [
  {
   "cell_type": "markdown",
   "id": "12212c40",
   "metadata": {},
   "source": [
    "# Self-preparation for Lab 10\n",
    "\n",
    "In this lab you're going to apply some commont DL tricks to enchance the training pipeline. We will use Pytorch again."
   ]
  },
  {
   "cell_type": "markdown",
   "id": "de26fc16",
   "metadata": {},
   "source": [
    "### 1) New data set\n",
    "\n",
    "Our common toy data set, MNIST, is going to be replaced by CIFAR10. You can download it in advance and save some time in class. "
   ]
  },
  {
   "cell_type": "code",
   "execution_count": null,
   "id": "613a685c",
   "metadata": {},
   "outputs": [],
   "source": [
    "from torchvision import datasets, transforms\n",
    "# Root = path to save\n",
    "train_dataset = datasets.CIFAR10(root='cifar10', download=True)"
   ]
  },
  {
   "cell_type": "markdown",
   "id": "5acaf4ab",
   "metadata": {},
   "source": [
    "### 2) Data augmentation\n",
    "\n",
    "Data augmentation - is one of the most popular methods of datasets 'extension'. It's a set of methods of data transformations that are randomly applyed during the training - for images it can be rotation, clipping, coloring, etc. Please, check [this example](https://pytorch.org/vision/stable/auto_examples/plot_transforms.html#sphx-glr-auto-examples-plot-transforms-py) to get the possibilities of Pytorch in data augmentation.\n",
    "\n",
    "Also, you may check [this notebook](https://colab.research.google.com/drive/109vu3F1LTzD1gdVV6cho9fKGx7lzbFll) and Lab 7 to get how to stack transforms together"
   ]
  },
  {
   "cell_type": "markdown",
   "id": "3b63b0e1",
   "metadata": {},
   "source": [
    "### 3) Model building\n",
    "\n",
    "Some of the tricks will impact the NN achitecture: you'll be asked to add dropout and batchnorm layers. Check [the example](https://goodboychan.github.io/python/datacamp/pytorch/deep_learning/2020/07/29/02-Using-Convolutional-Neural-Networks-in-PyTorch.html)."
   ]
  },
  {
   "cell_type": "markdown",
   "id": "40f2b7fa",
   "metadata": {},
   "source": [
    "### 4) TensorBoard\n",
    "\n",
    "TensorBoard - is a tool of training pipeline visualization from TensorFlow that was adapted in Pytorch as well. However, it conflicts with some CPU archs (noticed for Mac M1, but also possible for others). Please, run these commands:  "
   ]
  },
  {
   "cell_type": "code",
   "execution_count": null,
   "id": "65e5e6bd",
   "metadata": {},
   "outputs": [],
   "source": [
    "%load_ext tensorboard\n",
    "%tensorboard --logdir runs"
   ]
  },
  {
   "cell_type": "markdown",
   "id": "a9f0e786",
   "metadata": {},
   "source": [
    "You may get an error. In that case you can try to fix the installation of TensorFlow ([Mac solution]( https://caffeinedev.medium.com/how-to-install-tensorflow-on-m1-mac-8e9b91d93706)) or run the notebook in Colab. "
   ]
  }
 ],
 "metadata": {
  "kernelspec": {
   "display_name": "Python 3 (ipykernel)",
   "language": "python",
   "name": "python3"
  },
  "language_info": {
   "codemirror_mode": {
    "name": "ipython",
    "version": 3
   },
   "file_extension": ".py",
   "mimetype": "text/x-python",
   "name": "python",
   "nbconvert_exporter": "python",
   "pygments_lexer": "ipython3",
   "version": "3.9.13"
  }
 },
 "nbformat": 4,
 "nbformat_minor": 5
}
